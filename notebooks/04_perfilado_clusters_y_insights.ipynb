{
  "cells": [
    {
      "cell_type": "markdown",
      "metadata": {},
      "source": "# 04 · Perfilado de clusters e insights accionables\n"
    },
    {
      "cell_type": "code",
      "metadata": {},
      "execution_count": null,
      "outputs": [],
      "source": "import pandas as pd, numpy as np\ndf = pd.read_csv('data/interim/clientes_activos_clusters.csv')\n\n# Perfilado simple por cluster\nperfil = df.groupby('cluster').agg(['count','mean','median'])\nperfil.head()\n"
    },
    {
      "cell_type": "markdown",
      "metadata": {},
      "source": "## Preguntas guía para Notion / Informe\n- ¿Qué diferencia a cada cluster (frecuencia, ticket, cumplimiento)?\n- ¿Qué acciones comerciales sugerimos para cada uno?\n- ¿Cómo se ve la distribución por clínica (si la sumamos después a nivel descriptivo)?\n"
    }
  ],
  "metadata": {
    "kernelspec": {
      "display_name": "Python 3",
      "language": "python",
      "name": "python3"
    },
    "language_info": {
      "name": "python",
      "version": "3.11"
    }
  },
  "nbformat": 4,
  "nbformat_minor": 5
}