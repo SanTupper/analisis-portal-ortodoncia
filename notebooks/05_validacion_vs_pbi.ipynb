{
 "cells": [
  {
   "cell_type": "code",
   "execution_count": null,
   "id": "d827c239",
   "metadata": {},
   "outputs": [],
   "source": [
    "from pathlib import Path\n",
    "import pandas as pd\n",
    "from collections import OrderedDict\n",
    "\n",
    "# Raíz del repo\n",
    "ROOT = Path.cwd().parent if Path.cwd().name == \"notebooks\" else Path.cwd()\n",
    "df = pd.read_csv(ROOT / \"data\" / \"raw\" / \"Tab_Clientes(2).csv\", low_memory=False)\n",
    "\n",
    "# Parse mínimos\n",
    "f_ult = pd.to_datetime(df.get(\"FecUltimoPptoCreado\"), errors=\"coerce\", dayfirst=True)\n",
    "\n",
    "def resumen(tag, d: pd.DataFrame):\n",
    "    out = OrderedDict()\n",
    "    out[\"tag\"] = tag\n",
    "    out[\"n_pacientes\"] = len(d)\n",
    "    out[\"top_empresas\"] = d.get(\"Empresa\", pd.Series(dtype=str)).astype(str).str.upper().value_counts().head(10).to_dict()\n",
    "    out[\"top_comunas\"]  = d.get(\"Comuna\", pd.Series(dtype=str)).astype(str).value_counts().head(10).to_dict()\n",
    "    out[\"rango_edad\"]   = d.get(\"RangoEdad\", pd.Series(dtype=str)).value_counts().head(10).to_dict()\n",
    "    # Género (si existe)\n",
    "    if \"Sexo\" in d.columns:\n",
    "        out[\"genero\"] = d[\"Sexo\"].value_counts(dropna=False).to_dict()\n",
    "    return out\n",
    "\n",
    "# Corte A: \"2025\" aprox por última fecha de ppto (limitación: no es transaccional)\n",
    "mask_2025 = f_ult.dt.year.eq(2025)\n",
    "res_2025  = resumen(\"Corte A ~ Año 2025 (por FecUltimoPptoCreado)\", df[mask_2025].copy())\n",
    "\n",
    "# Corte B: activos (≤ 2 años) – lo que usamos para clustering\n",
    "dias = pd.to_numeric(df.get(\"DiasDesdeUltimaVisita\"), errors=\"coerce\")\n",
    "mask_act = dias.le(730)\n",
    "res_act  = resumen(\"Corte B ~ Activos (≤ 2 años)\", df[mask_act].copy())\n",
    "\n",
    "for r in (res_2025, res_act):\n",
    "    print(\"\\n===\", r[\"tag\"], \"===\")\n",
    "    print(\"n_pacientes:\", r[\"n_pacientes\"])\n",
    "    print(\"Top empresas:\", r[\"top_empresas\"])\n",
    "    print(\"Top comunas :\", r[\"top_comunas\"])\n",
    "    print(\"Rango edad  :\", r[\"rango_edad\"])\n",
    "    if \"genero\" in r:\n",
    "        print(\"Género:\", r[\"genero\"])\n"
   ]
  },
  {
   "cell_type": "code",
   "execution_count": null,
   "id": "8a3006e8",
   "metadata": {},
   "outputs": [],
   "source": [
    "\n"
   ]
  },
  {
   "cell_type": "code",
   "execution_count": null,
   "id": "973df45a",
   "metadata": {},
   "outputs": [],
   "source": []
  }
 ],
 "metadata": {
  "kernelspec": {
   "display_name": ".venv",
   "language": "python",
   "name": "python3"
  },
  "language_info": {
   "codemirror_mode": {
    "name": "ipython",
    "version": 3
   },
   "file_extension": ".py",
   "mimetype": "text/x-python",
   "name": "python",
   "nbconvert_exporter": "python",
   "pygments_lexer": "ipython3",
   "version": "3.11.13"
  }
 },
 "nbformat": 4,
 "nbformat_minor": 5
}
