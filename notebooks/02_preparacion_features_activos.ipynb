{
  "cells": [
    {
      "cell_type": "markdown",
      "metadata": {},
      "source": [
        "# 02 · Preparación de features (activos)\n"
      ]
    },
    {
      "cell_type": "code",
      "execution_count": null,
      "metadata": {},
      "outputs": [],
      "source": [
        "import sys\n",
        "from pathlib import Path\n",
        "ROOT = Path.cwd().parent\n",
        "if str(ROOT) not in sys.path:\n",
        "    sys.path.append(str(ROOT))\n",
        "from dotenv import load_dotenv\n",
        "import os, pandas as pd, numpy as np\n",
        "\n",
        "load_dotenv()\n",
        "\n",
        "from src.utils import crear_kpis_pptos, unificar_cobertura_salud, marcar_activos\n",
        "\n",
        "# Carpeta raíz del proyecto (sube un nivel desde /notebooks)\n",
        "ROOT = Path.cwd().parent\n",
        "DEFAULT = ROOT / \"data\" / \"raw\" / \"Tab_Clientes(2).csv\"\n",
        "\n",
        "# Permite override con .env si algún día quieres mover la ruta\n",
        "DATA_PATH = Path(os.getenv(\"DATA_PATH\", str(DEFAULT)))\n",
        "\n",
        "df = pd.read_csv(DATA_PATH, low_memory=False)\n",
        "pd.set_option(\"display.max_columns\", None)  # no truncar columnas\n",
        "pd.set_option(\"display.width\", None) \n",
        "\n",
        "# KPIs presupuestos\n",
        "df = crear_kpis_pptos(df)\n",
        "\n",
        "# Cobertura de salud unificada\n",
        "df = unificar_cobertura_salud(df)\n",
        "\n",
        "# Marcar activos (2 años)\n",
        "act_mask = marcar_activos(df, dias_umbral=730)\n",
        "df_act = df[act_mask].copy()\n",
        "df_inact = df[~act_mask].copy()\n",
        "\n",
        "df_act.shape, df_inact.shape\n"
      ]
    },
    {
      "cell_type": "code",
      "execution_count": null,
      "id": "525492b1",
      "metadata": {},
      "outputs": [],
      "source": [
        "n_total = len(df)\n",
        "n_act = len(df_act)\n",
        "n_inact = len(df_inact)\n",
        "\n",
        "print(\"Total:\", n_total, \" | Activos:\", n_act, \" | Inactivos:\", n_inact)\n",
        "print(\"Proporción activos:\", round(n_act/n_total*100, 2), \"%\")\n",
        "\n",
        "# Sanity check del criterio (opcional): ¿cuántos quedan activos por cada regla?\n",
        "ventanas = [c for c in df.columns if c.lower().startswith('atencion')]\n",
        "cualquier_atencion = df[ventanas].fillna(0).sum(axis=1) > 0\n",
        "dias = pd.to_numeric(df.get('DiasDesdeUltimaVisita'), errors='coerce')\n",
        "por_dias = dias.le(730).fillna(False)\n",
        "\n",
        "print(\"Activos por ventanas de atención:\", int(cualquier_atencion.sum()))\n",
        "print(\"Activos por días <= 730:\", int(por_dias.sum()))\n"
      ]
    },
    {
      "cell_type": "markdown",
      "metadata": {},
      "source": [
        "## Selección de variables candidatas\n"
      ]
    },
    {
      "cell_type": "code",
      "execution_count": null,
      "metadata": {},
      "outputs": [],
      "source": [
        "vars_demo = ['Edad','Sexo','Comuna','Region']\n",
        "vars_kpi  = ['TicketPromPpto','PctCumplimiento','MontoAbonadoProm']\n",
        "vars_act  = ['DiasDesdeUltimaVisita']\n",
        "vars_att  = [c for c in df.columns if c.lower().startswith('atencion')]\n",
        "\n",
        "vars_candidatas = vars_demo + vars_kpi + vars_act + vars_att\n",
        "sorted(vars_candidatas)[:10], len(vars_candidatas)\n"
      ]
    },
    {
      "cell_type": "markdown",
      "metadata": {},
      "source": [
        "## Limpieza mínima\n"
      ]
    },
    {
      "cell_type": "code",
      "execution_count": null,
      "metadata": {},
      "outputs": [],
      "source": [
        "# Ejemplo: Sexo a binario\n",
        "df_act['Sexo'] = df_act['Sexo'].map({'M':1,'F':0}).astype('Int64')\n",
        "\n",
        "# Días desde última visita\n",
        "df_act['DiasDesdeUltimaVisita'] = pd.to_numeric(df_act['DiasDesdeUltimaVisita'], errors='coerce')\n",
        "\n",
        "# One-hot geografía (opcional, podemos hacerlo más adelante)\n",
        "df_act = pd.get_dummies(df_act, columns=['Comuna','Region','CoberturaSaludCat'], drop_first=True)\n",
        "\n",
        "df_act.shape\n"
      ]
    },
    {
      "cell_type": "markdown",
      "metadata": {},
      "source": [
        "## Export intermedio (opcional, no subir CSV con PII)\n"
      ]
    },
    {
      "cell_type": "code",
      "execution_count": null,
      "metadata": {},
      "outputs": [],
      "source": [
        "os.makedirs('data/interim', exist_ok=True)\n",
        "df_act[vars_candidatas].to_csv('data/interim/clientes_activos_features.csv', index=False)\n",
        "'data/interim/clientes_activos_features.csv'\n"
      ]
    }
  ],
  "metadata": {
    "kernelspec": {
      "display_name": ".venv",
      "language": "python",
      "name": "python3"
    },
    "language_info": {
      "codemirror_mode": {
        "name": "ipython",
        "version": 3
      },
      "file_extension": ".py",
      "mimetype": "text/x-python",
      "name": "python",
      "nbconvert_exporter": "python",
      "pygments_lexer": "ipython3",
      "version": "3.11.13"
    }
  },
  "nbformat": 4,
  "nbformat_minor": 5
}
