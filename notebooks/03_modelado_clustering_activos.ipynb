{
  "cells": [
    {
      "cell_type": "markdown",
      "metadata": {},
      "source": "# 03 · Modelado de clustering (activos)\n"
    },
    {
      "cell_type": "code",
      "metadata": {},
      "execution_count": null,
      "outputs": [],
      "source": "import pandas as pd, numpy as np\nfrom sklearn.preprocessing import StandardScaler\nfrom sklearn.cluster import KMeans\nfrom sklearn.metrics import silhouette_score\n\ndf = pd.read_csv('data/interim/clientes_activos_features.csv', low_memory=False)\n\n# Selección numérica\nX = df.select_dtypes(include=[np.number]).fillna(0)\n\nscaler = StandardScaler()\nXs = scaler.fit_transform(X)\n\n# Búsqueda rápida de K (2..10)\nscores = {}\nfor k in range(2, 11):\n    km = KMeans(n_clusters=k, n_init=20, random_state=42)\n    labels = km.fit_predict(Xs)\n    scores[k] = silhouette_score(Xs, labels)\nscores\n"
    },
    {
      "cell_type": "markdown",
      "metadata": {},
      "source": "## Selección de K y entrenamiento final\n"
    },
    {
      "cell_type": "code",
      "metadata": {},
      "execution_count": null,
      "outputs": [],
      "source": "best_k = max(scores, key=scores.get)\nbest_k\n"
    },
    {
      "cell_type": "code",
      "metadata": {},
      "execution_count": null,
      "outputs": [],
      "source": "km = KMeans(n_clusters=best_k, n_init=30, random_state=42)\nlabels = km.fit_predict(Xs)\ndf_out = df.copy()\ndf_out['cluster'] = labels\ndf_out.head()\n"
    },
    {
      "cell_type": "markdown",
      "metadata": {},
      "source": "## Guardar resultados\n"
    },
    {
      "cell_type": "code",
      "metadata": {},
      "execution_count": null,
      "outputs": [],
      "source": "import os\nos.makedirs('reports/figures', exist_ok=True)\ndf_out.to_csv('data/interim/clientes_activos_clusters.csv', index=False)\n'data/interim/clientes_activos_clusters.csv'\n"
    }
  ],
  "metadata": {
    "kernelspec": {
      "display_name": "Python 3",
      "language": "python",
      "name": "python3"
    },
    "language_info": {
      "name": "python",
      "version": "3.11"
    }
  },
  "nbformat": 4,
  "nbformat_minor": 5
}